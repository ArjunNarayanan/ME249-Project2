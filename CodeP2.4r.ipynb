{
 "cells": [
  {
   "cell_type": "code",
   "execution_count": 12,
   "metadata": {},
   "outputs": [],
   "source": [
    "'''>>>>> start CodeP2.4\n",
    "    V.P. Carey ME249, Spring 2021\n",
    "\n",
    "Intro to Neural Network Modeling \n",
    "Keras model for hybrid solar/fossil-fuel gas turbine power system'''\n",
    "\n",
    "#import useful packages\n",
    "import keras\n",
    "import pandas as pd\n",
    "from keras.models import Sequential\n",
    "import numpy as np\n",
    "import keras.backend as kb\n",
    "import tensorflow as tf\n",
    "#the follwoing 2 lines are only needed for Mac OS machines\n",
    "# import os\n",
    "# os.environ['KMP_DUPLICATE_LIB_OK']='True'\n",
    "\n",
    "#create input data array\n",
    "# meadian values of input variables\n",
    "Tmed = 293.\n",
    "gamed = 0.25\n",
    "qsmed = 1250.\n",
    "#T1(K), gamma, , qsol(kW):\n",
    "\n",
    "xdata =  [[ 318.0 , 0.0 , 500.0 ], [ 318.0 , 0.0 , 1000.0 ]]\n",
    "xdata.append([ 318.0 , 0.0 , 1500.0 ])\n",
    "xdata.append([ 318.0 , 0.0 , 2000.0 ])\n",
    "xdata.append([ 318.0 , 0.0 , 2500.0 ])\n",
    "xdata.append([ 318.0 , 0.25 , 500.0 ])\n",
    "xdata.append([ 318.0 , 0.25 , 1000.0 ])\n",
    "xdata.append([ 318.0 , 0.25 , 1500.0 ])\n",
    "xdata.append([ 318.0 , 0.25 , 2000.0 ])\n",
    "xdata.append([ 318.0 , 0.25 , 2500.0 ])\n",
    "xdata.append([ 318.0 , 0.5 , 500.0 ])\n",
    "xdata.append([ 318.0 , 0.5 , 1000.0 ])\n",
    "xdata.append([ 318.0 , 0.5 , 1500.0 ])\n",
    "xdata.append([ 318.0 , 0.5 , 2000.0 ])\n",
    "xdata.append([ 318.0 , 0.5 , 2500.0 ])\n",
    "  \n",
    "xdata.append([ 303.0 , 0.0 , 500.0 ])\n",
    "xdata.append([ 303.0 , 0.0 , 1000.0 ])\n",
    "xdata.append([ 303.0 , 0.0 , 1500.0 ])\n",
    "xdata.append([ 303.0 , 0.0 , 2000.0 ])\n",
    "xdata.append([ 303.0 , 0.0 , 2500.0 ])\n",
    "xdata.append([ 303.0 , 0.25 , 500.0 ])\n",
    "xdata.append([ 303.0 , 0.25 , 1000.0 ])\n",
    "xdata.append([ 303.0 , 0.25 , 1500.0 ])\n",
    "xdata.append([ 303.0 , 0.25 , 2000.0 ])\n",
    "xdata.append([ 303.0 , 0.25 , 2500.0 ])\n",
    "xdata.append([ 303.0 , 0.5 , 500.0 ])\n",
    "xdata.append([ 303.0 , 0.5 , 1000.0 ])\n",
    "xdata.append([ 303.0 , 0.5 , 1500.0 ])\n",
    "xdata.append([ 303.0 , 0.5 , 2000.0 ])\n",
    "xdata.append([ 303.0 , 0.5 , 2500.0 ])\n",
    "  \n",
    "xdata.append([ 288.0 , 0.0 , 500.0 ])\n",
    "xdata.append([ 288.0 , 0.0 , 1000.0 ])\n",
    "xdata.append([ 288.0 , 0.0 , 1500.0 ])\n",
    "xdata.append([ 288.0 , 0.0 , 2000.0 ])\n",
    "xdata.append([ 288.0 , 0.0 , 2500.0 ])\n",
    "xdata.append([ 288.0 , 0.25 , 500.0 ])\n",
    "xdata.append([ 288.0 , 0.25 , 1000.0 ])\n",
    "xdata.append([ 288.0 , 0.25 , 1500.0 ])\n",
    "xdata.append([ 288.0 , 0.25 , 2000.0 ])\n",
    "xdata.append([ 288.0 , 0.25 , 2500.0 ])\n",
    "xdata.append([ 288.0 , 0.5 , 500.0 ])\n",
    "xdata.append([ 288.0 , 0.5 , 1000.0 ])\n",
    "xdata.append([ 288.0 , 0.5 , 1500.0 ])\n",
    "xdata.append([ 288.0 , 0.5 , 2000.0 ])\n",
    "xdata.append([ 288.0 , 0.5 , 2500.0 ])\n",
    "  \n",
    "xdata.append([ 268.0 , 0.0 , 500.0 ])\n",
    "xdata.append([ 268.0 , 0.0 , 1000.0 ])\n",
    "xdata.append([ 268.0 , 0.0 , 1500.0 ])\n",
    "xdata.append([ 268.0 , 0.0 , 2000.0 ])\n",
    "xdata.append([ 268.0 , 0.0 , 2500.0 ])\n",
    "xdata.append([ 268.0 , 0.25 , 500.0 ])\n",
    "xdata.append([ 268.0 , 0.25 , 1000.0 ])\n",
    "xdata.append([ 268.0 , 0.25 , 1500.0 ])\n",
    "xdata.append([ 268.0 , 0.25 , 2000.0 ])\n",
    "xdata.append([ 268.0 , 0.25 , 2500.0 ])\n",
    "xdata.append([ 268.0 , 0.5 , 500.0 ])\n",
    "xdata.append([ 268.0 , 0.5 , 1000.0 ])\n",
    "xdata.append([ 268.0 , 0.5 , 1500.0 ])\n",
    "xdata.append([ 268.0 , 0.5 , 2000.0 ])\n",
    "xdata.append([ 268.0 , 0.5 , 2500.0 ])\n",
    "\n",
    "\n",
    "\n",
    "xarray= np.array(xdata)\n",
    "# print (xdata)\n",
    "# print (xarray)\n",
    "# meadian values of output variables\n",
    "almed = 60.\n",
    "efmed = 0.4\n",
    "# alpha, effsys\n",
    "\n",
    "ydata =  [[ 35.1316 , 0.3808 ],[ 40.3764 , 0.38686 ]]\n",
    "ydata.append([ 47.4620 , 0.3930 ])\n",
    "ydata.append([ 57.5639 , 0.39949 ])\n",
    "ydata.append([ 73.1286 , 0.40612 ])\n",
    "ydata.append([ 49.1110 , 0.4023 ])\n",
    "ydata.append([ 56.4428 , 0.40605 ])\n",
    "ydata.append([ 66.3479 , 0.4098 ])\n",
    "ydata.append([ 80.4695 , 0.413 ])\n",
    "ydata.append([ 102.2276 , 0.4175 ])\n",
    "ydata.append([ 63.0904 , 0.41540 ])\n",
    "ydata.append([ 72.5092 , 0.4175 ])\n",
    "ydata.append([ 85.2338, 0.4197 ])\n",
    "ydata.append([ 103.3750 , 0.42192 ])\n",
    "ydata.append([ 131.3266 , 0.4242 ])\n",
    "  \n",
    "ydata.append([ 34.273 , 0.3952 ])\n",
    "ydata.append([ 38.99026 , 0.4012 ])\n",
    "ydata.append([ 45.2133, 0.4073 ])\n",
    "ydata.append([ 53.8000 , 0.4136 ])\n",
    "ydata.append([ 66.4130 , 0.4201 ])\n",
    "ydata.append([ 47.922 , 0.4178 ])\n",
    "ydata.append([ 54.518 , 0.4215 ])\n",
    "ydata.append([ 63.220 , 0.4252 ])\n",
    "ydata.append([ 75.226 , 0.4290 ])\n",
    "ydata.append([ 92.862 , 0.4329 ])\n",
    "ydata.append([ 61.572 , 0.4315 ])\n",
    "ydata.append([ 70.0468 , 0.43373 ])\n",
    "ydata.append([ 81.226 , 0.43597 ])\n",
    "ydata.append([ 96.653 , 0.4382 ])\n",
    "ydata.append([ 119.3124 , 0.44045 ])\n",
    "  \n",
    "ydata.append([ 33.4521 , 0.40913 ])\n",
    "ydata.append([ 37.6911, 0.4150 ])\n",
    "ydata.append([ 43.1602 , 0.4209 ])\n",
    "ydata.append([ 50.4858 , 0.4271 ])\n",
    "ydata.append([ 60.8067 , 0.4334 ])\n",
    "ydata.append([ 46.7865 , 0.4328 ])\n",
    "ydata.append([ 52.7151 , 0.43646 ])\n",
    "ydata.append([ 60.36425 , 0.44016 ])\n",
    "ydata.append([ 70.6099 , 0.443926 ])\n",
    "ydata.append([ 85.0447 , 0.4477 ])\n",
    "ydata.append([ 60.1208 , 0.44721 ])\n",
    "ydata.append([ 67.7391 , 0.44940 ])\n",
    "ydata.append([ 77.56830 , 0.4516 ])\n",
    "ydata.append([ 90.73410 , 0.4538 ])\n",
    "ydata.append([ 109.2828 , 0.4560 ])\n",
    "  \n",
    "ydata.append([ 32.4123 , 0.42694 ])\n",
    "ydata.append([ 36.0807 , 0.4325 ])\n",
    "ydata.append([ 40.6854 , 0.4383 ])\n",
    "ydata.append([ 46.6374 , 0.4442 ])\n",
    "ydata.append([ 54.6293 , 0.4503 ])\n",
    "ydata.append([ 45.3472 , 0.4519 ])\n",
    "ydata.append([ 50.4796 , 0.4555 ])\n",
    "ydata.append([ 56.9219 , 0.4591 ])\n",
    "ydata.append([ 65.2492 , 0.4628 ])\n",
    "ydata.append([ 76.4304 , 0.4665 ])\n",
    "ydata.append([ 58.2822 , 0.4672 ])\n",
    "ydata.append([ 64.8785 , 0.4693 ])\n",
    "ydata.append([ 73.1584 , 0.4715 ])\n",
    "ydata.append([ 83.8610 , 0.4738 ])\n",
    "ydata.append([ 98.2316 , 0.4760 ])\n",
    "\n",
    "yarray= np.array(ydata)\n",
    "# print (ydata)\n",
    "# print (yarray)"
   ]
  },
  {
   "cell_type": "code",
   "execution_count": 13,
   "metadata": {},
   "outputs": [],
   "source": [
    "# Determine the median\n",
    "xmedian = np.array([np.median(xarray[:,i]) for i in range(0,3)])\n",
    "ymedian = np.array([np.median(yarray[:,i]) for i in range(0,2)])"
   ]
  },
  {
   "cell_type": "code",
   "execution_count": 14,
   "metadata": {},
   "outputs": [],
   "source": [
    "for i in range(0,3):\n",
    "    xarray[:,i] = xarray[:,i]/xmedian[i]\n",
    "\n",
    "for i in range(0,2):\n",
    "    yarray[:,i] = yarray[:,i]/ymedian[i]"
   ]
  },
  {
   "cell_type": "code",
   "execution_count": 16,
   "metadata": {
    "scrolled": true
   },
   "outputs": [
    {
     "name": "stdout",
     "output_type": "stream",
     "text": [
      "[[0.57414566 0.88148148]\n",
      " [0.65985993 0.89550926]\n",
      " [0.77565786 0.90972222]\n",
      " [0.94075031 0.92474537]\n",
      " [1.19511974 0.94009259]\n",
      " [0.80260699 0.93125   ]\n",
      " [0.92242849 0.93993056]\n",
      " [1.0843047  0.94861111]\n",
      " [1.31508996 0.95601852]\n",
      " [1.67067635 0.96643519]\n",
      " [1.03106831 0.96157407]\n",
      " [1.18499706 0.96643519]\n",
      " [1.39295155 0.97152778]\n",
      " [1.68942798 0.97666667]\n",
      " [2.14623296 0.98194444]\n",
      " [0.56011381 0.91481481]\n",
      " [0.63720664 0.9287037 ]\n",
      " [0.738908   0.94282407]\n",
      " [0.87923797 0.95740741]\n",
      " [1.08536861 0.9724537 ]\n",
      " [0.7831755  0.96712963]\n",
      " [0.89097204 0.97569444]\n",
      " [1.03318633 0.98425926]\n",
      " [1.22939695 0.99305556]\n",
      " [1.51761704 1.00208333]\n",
      " [1.00625354 0.99884259]\n",
      " [1.14475477 1.00400463]\n",
      " [1.32745323 1.00918981]\n",
      " [1.57957226 1.01435185]\n",
      " [1.94988834 1.01956019]\n",
      " [0.54669808 0.94706019]\n",
      " [0.61597484 0.96064815]\n",
      " [0.70535477 0.97430556]\n",
      " [0.82507495 0.98865741]\n",
      " [0.99374646 1.00324074]\n",
      " [0.76461835 1.00185185]\n",
      " [0.86150776 1.01032407]\n",
      " [0.98651563 1.01888889]\n",
      " [1.15395735 1.02760648]\n",
      " [1.38986114 1.03634259]\n",
      " [0.98253699 1.03520833]\n",
      " [1.10704069 1.04027778]\n",
      " [1.26767648 1.04537037]\n",
      " [1.48284138 1.05046296]\n",
      " [1.78597746 1.05555556]\n",
      " [0.52970492 0.98828704]\n",
      " [0.58965653 1.00115741]\n",
      " [0.66490982 1.01458333]\n",
      " [0.76218165 1.02824074]\n",
      " [0.89279098 1.04236111]\n",
      " [0.74109629 1.04606481]\n",
      " [0.82497363 1.05439815]\n",
      " [0.93025829 1.06273148]\n",
      " [1.06634896 1.0712963 ]\n",
      " [1.24908011 1.07986111]\n",
      " [0.95248928 1.08148148]\n",
      " [1.06029072 1.08634259]\n",
      " [1.19560675 1.09143519]\n",
      " [1.37051627 1.09675926]\n",
      " [1.60537087 1.10185185]]\n"
     ]
    }
   ],
   "source": [
    "print(xarray)\n",
    "print(yarray)"
   ]
  },
  {
   "cell_type": "code",
   "execution_count": 32,
   "metadata": {},
   "outputs": [],
   "source": [
    "# define neural network model\n",
    "\n",
    "#As seen below, we have created four dense layers. \n",
    "#A dense layer is a layer in neural network that’s fully connected. \n",
    "#In other words, all the neurons in one layer are connected to all other neurons in the next layer.\n",
    "#In the first layer, we need to provide the input shape, which is 1 in our case. \n",
    "#The activation function we have chosen is elu, which stands for exponential linear unit. .\n",
    "\n",
    "from keras import backend as K\n",
    "#initialize weights with values between -0.2 and 1.2\n",
    "initializer = tf.keras.initializers.RandomUniform(minval= -0.2, maxval=1.2)\n",
    "\n",
    "model = keras.Sequential([\n",
    "    keras.layers.Dense(16, activation=K.relu, input_shape=[3]),\n",
    "    keras.layers.Dense(32, activation=K.relu),\n",
    "    keras.layers.Dense(16, activation=K.relu),\n",
    "    keras.layers.Dense(2)\n",
    "  ])\n"
   ]
  },
  {
   "cell_type": "code",
   "execution_count": 33,
   "metadata": {},
   "outputs": [],
   "source": [
    "#We’re using RMSprop as our optimizer here. RMSprop stands for Root Mean Square Propagation. \n",
    "#It’s one of the most popular gradient descent optimization algorithms for deep learning networks. \n",
    "#RMSprop is an optimizer that’s reliable and fast.\n",
    "#We’re compiling the mode using the model.compile function. The loss function used here \n",
    "#is mean squared error. After the compilation of the model, we’ll use the fit method with ~500 epochs.\n",
    "#Number of epochs can be varied.\n",
    "\n",
    "#from tf.keras import optimizers\n",
    "\n",
    "sgd = keras.optimizers.RMSprop(0.015)\n",
    "model.compile(loss='mean_absolute_error',optimizer=sgd)\n"
   ]
  },
  {
   "cell_type": "code",
   "execution_count": 34,
   "metadata": {
    "scrolled": true
   },
   "outputs": [
    {
     "name": "stdout",
     "output_type": "stream",
     "text": [
      "Epoch 1/600\n",
      "60/60 [==============================] - 1s 23ms/step - loss: 0.6363\n",
      "Epoch 2/600\n",
      "60/60 [==============================] - 0s 158us/step - loss: 0.8326\n",
      "Epoch 3/600\n",
      "60/60 [==============================] - 0s 342us/step - loss: 0.2430\n",
      "Epoch 4/600\n",
      "60/60 [==============================] - 0s 423us/step - loss: 0.2513\n",
      "Epoch 5/600\n",
      "60/60 [==============================] - 0s 783us/step - loss: 0.1714\n",
      "Epoch 6/600\n",
      "60/60 [==============================] - 0s 330us/step - loss: 0.2007\n",
      "Epoch 7/600\n",
      "60/60 [==============================] - 0s 502us/step - loss: 0.1674\n",
      "Epoch 8/600\n",
      "60/60 [==============================] - 0s 435us/step - loss: 0.1713\n",
      "Epoch 9/600\n",
      "60/60 [==============================] - 0s 291us/step - loss: 0.1662\n",
      "Epoch 10/600\n",
      "60/60 [==============================] - 0s 504us/step - loss: 0.1625\n",
      "Epoch 11/600\n",
      "60/60 [==============================] - 0s 330us/step - loss: 0.1719\n",
      "Epoch 12/600\n",
      "60/60 [==============================] - 0s 179us/step - loss: 0.1669\n",
      "Epoch 13/600\n",
      "60/60 [==============================] - 0s 347us/step - loss: 0.1421\n",
      "Epoch 14/600\n",
      "60/60 [==============================] - 0s 299us/step - loss: 0.1507\n",
      "Epoch 15/600\n",
      "60/60 [==============================] - 0s 269us/step - loss: 0.1768\n",
      "Epoch 16/600\n",
      "60/60 [==============================] - 0s 373us/step - loss: 0.1193\n",
      "Epoch 17/600\n",
      "60/60 [==============================] - 0s 376us/step - loss: 0.1530\n",
      "Epoch 18/600\n",
      "60/60 [==============================] - 0s 388us/step - loss: 0.1377\n",
      "Epoch 19/600\n",
      "60/60 [==============================] - 0s 500us/step - loss: 0.1424\n",
      "Epoch 20/600\n",
      "60/60 [==============================] - 0s 441us/step - loss: 0.1292\n",
      "Epoch 21/600\n",
      "60/60 [==============================] - 0s 760us/step - loss: 0.1459\n",
      "Epoch 22/600\n",
      "60/60 [==============================] - 0s 248us/step - loss: 0.1545\n",
      "Epoch 23/600\n",
      "60/60 [==============================] - 0s 427us/step - loss: 0.1194\n",
      "Epoch 24/600\n",
      "60/60 [==============================] - 0s 359us/step - loss: 0.1582\n",
      "Epoch 25/600\n",
      "60/60 [==============================] - 0s 436us/step - loss: 0.1185\n",
      "Epoch 26/600\n",
      "60/60 [==============================] - 0s 996us/step - loss: 0.1298\n",
      "Epoch 27/600\n",
      "60/60 [==============================] - 0s 421us/step - loss: 0.1404\n",
      "Epoch 28/600\n",
      "60/60 [==============================] - 0s 417us/step - loss: 0.1436\n",
      "Epoch 29/600\n",
      "60/60 [==============================] - 0s 607us/step - loss: 0.1081\n",
      "Epoch 30/600\n",
      "60/60 [==============================] - 0s 297us/step - loss: 0.1671\n",
      "Epoch 31/600\n",
      "60/60 [==============================] - 0s 602us/step - loss: 0.1138\n",
      "Epoch 32/600\n",
      "60/60 [==============================] - 0s 338us/step - loss: 0.0940\n",
      "Epoch 33/600\n",
      "60/60 [==============================] - 0s 360us/step - loss: 0.1323\n",
      "Epoch 34/600\n",
      "60/60 [==============================] - 0s 466us/step - loss: 0.1529\n",
      "Epoch 35/600\n",
      "60/60 [==============================] - 0s 428us/step - loss: 0.1277\n",
      "Epoch 36/600\n",
      "60/60 [==============================] - 0s 211us/step - loss: 0.1451\n",
      "Epoch 37/600\n",
      "60/60 [==============================] - 0s 201us/step - loss: 0.0986\n",
      "Epoch 38/600\n",
      "60/60 [==============================] - 0s 701us/step - loss: 0.1253\n",
      "Epoch 39/600\n",
      "60/60 [==============================] - 0s 169us/step - loss: 0.1319\n",
      "Epoch 40/600\n",
      "60/60 [==============================] - 0s 234us/step - loss: 0.1341\n",
      "Epoch 41/600\n",
      "60/60 [==============================] - 0s 187us/step - loss: 0.1021\n",
      "Epoch 42/600\n",
      "60/60 [==============================] - 0s 332us/step - loss: 0.1135\n",
      "Epoch 43/600\n",
      "60/60 [==============================] - 0s 346us/step - loss: 0.0976\n",
      "Epoch 44/600\n",
      "60/60 [==============================] - 0s 358us/step - loss: 0.1044\n",
      "Epoch 45/600\n",
      "60/60 [==============================] - 0s 285us/step - loss: 0.0978\n",
      "Epoch 46/600\n",
      "60/60 [==============================] - 0s 601us/step - loss: 0.1456\n",
      "Epoch 47/600\n",
      "60/60 [==============================] - 0s 732us/step - loss: 0.1275\n",
      "Epoch 48/600\n",
      "60/60 [==============================] - 0s 758us/step - loss: 0.1240\n",
      "Epoch 49/600\n",
      "60/60 [==============================] - 0s 223us/step - loss: 0.1142\n",
      "Epoch 50/600\n",
      "60/60 [==============================] - 0s 333us/step - loss: 0.1151\n",
      "Epoch 51/600\n",
      "60/60 [==============================] - 0s 257us/step - loss: 0.1154\n",
      "Epoch 52/600\n",
      "60/60 [==============================] - 0s 434us/step - loss: 0.0827\n",
      "Epoch 53/600\n",
      "60/60 [==============================] - 0s 194us/step - loss: 0.0789\n",
      "Epoch 54/600\n",
      "60/60 [==============================] - 0s 215us/step - loss: 0.0688\n",
      "Epoch 55/600\n",
      "60/60 [==============================] - 0s 295us/step - loss: 0.1351\n",
      "Epoch 56/600\n",
      "60/60 [==============================] - 0s 295us/step - loss: 0.1642\n",
      "Epoch 57/600\n",
      "60/60 [==============================] - 0s 527us/step - loss: 0.0954\n",
      "Epoch 58/600\n",
      "60/60 [==============================] - 0s 719us/step - loss: 0.1046\n",
      "Epoch 59/600\n",
      "60/60 [==============================] - ETA: 0s - loss: 0.113 - 0s 399us/step - loss: 0.1315\n",
      "Epoch 60/600\n",
      "60/60 [==============================] - 0s 170us/step - loss: 0.1317\n",
      "Epoch 61/600\n",
      "60/60 [==============================] - 0s 1ms/step - loss: 0.1172\n",
      "Epoch 62/600\n",
      "60/60 [==============================] - 0s 721us/step - loss: 0.0814\n",
      "Epoch 63/600\n",
      "60/60 [==============================] - 0s 526us/step - loss: 0.1317\n",
      "Epoch 64/600\n",
      "60/60 [==============================] - 0s 411us/step - loss: 0.1130\n",
      "Epoch 65/600\n",
      "60/60 [==============================] - 0s 400us/step - loss: 0.1081\n",
      "Epoch 66/600\n",
      "60/60 [==============================] - 0s 468us/step - loss: 0.0977\n",
      "Epoch 67/600\n",
      "60/60 [==============================] - 0s 544us/step - loss: 0.0949\n",
      "Epoch 68/600\n",
      "60/60 [==============================] - 0s 351us/step - loss: 0.1191\n",
      "Epoch 69/600\n",
      "60/60 [==============================] - 0s 275us/step - loss: 0.0919\n",
      "Epoch 70/600\n",
      "60/60 [==============================] - 0s 186us/step - loss: 0.1141\n",
      "Epoch 71/600\n",
      "60/60 [==============================] - 0s 308us/step - loss: 0.1194\n",
      "Epoch 72/600\n",
      "60/60 [==============================] - 0s 289us/step - loss: 0.0901\n",
      "Epoch 73/600\n",
      "60/60 [==============================] - 0s 191us/step - loss: 0.0738\n",
      "Epoch 74/600\n",
      "60/60 [==============================] - 0s 464us/step - loss: 0.1191\n",
      "Restoring model weights from the end of the best epoch\n",
      "Epoch 00074: early stopping\n",
      "best epoch =  54\n",
      "smallest loss = 0.06878625055154165\n"
     ]
    }
   ],
   "source": [
    "#After the compilation of the model, we’ll use the fit method with 500 epochs.\n",
    "#I started with epochs value of 100 and then tested the model after training. \n",
    "#The prediction was not that good. Then I modified the number of epochs to 200 and tested the model again. \n",
    "#Accuracy had improved slightly, but figured I’d give it one more try. Finally, at 500 epochs \n",
    "#I found acceptable prediction accuracy.\n",
    "\n",
    "#The fit method takes three parameters; namely, x, y, and number of epochs. \n",
    "#During model training, if all the batches of data are seen by the model once, \n",
    "#we say that one epoch has been completed.\n",
    "\n",
    "# Add an early stopping callback\n",
    "es = keras.callbacks.EarlyStopping(\n",
    "    monitor='loss', \n",
    "    mode='min', \n",
    "    patience = 20, \n",
    "    restore_best_weights = True, \n",
    "    verbose=1)\n",
    "# Add a checkpoint where loss is minimum, and save that model\n",
    "mc = keras.callbacks.ModelCheckpoint('best_model.SB', monitor='loss', \n",
    "                     mode='min',  verbose=1, save_best_only=True)\n",
    "\n",
    "historyData = model.fit(xarray,yarray,epochs=600,callbacks=[es])\n",
    "\n",
    "loss_hist = historyData.history['loss']\n",
    "#The above line will return a dictionary, access it's info like this:\n",
    "best_epoch = np.argmin(historyData.history['loss']) + 1\n",
    "print ('best epoch = ', best_epoch)\n",
    "print('smallest loss =', np.min(loss_hist))\n"
   ]
  },
  {
   "cell_type": "code",
   "execution_count": 45,
   "metadata": {
    "scrolled": true
   },
   "outputs": [
    {
     "name": "stdout",
     "output_type": "stream",
     "text": [
      "Epoch 1/600\n",
      "60/60 [==============================] - 1s 23ms/step - loss: 0.0156\n",
      "Epoch 2/600\n",
      "60/60 [==============================] - 0s 148us/step - loss: 0.0159\n",
      "Epoch 3/600\n",
      "60/60 [==============================] - 0s 454us/step - loss: 0.0153\n",
      "Epoch 4/600\n",
      "60/60 [==============================] - 0s 592us/step - loss: 0.0152\n",
      "Epoch 5/600\n",
      "60/60 [==============================] - 0s 510us/step - loss: 0.0153\n",
      "Epoch 6/600\n",
      "60/60 [==============================] - ETA: 0s - loss: 0.012 - 0s 487us/step - loss: 0.0154\n",
      "Epoch 7/600\n",
      "60/60 [==============================] - 0s 430us/step - loss: 0.0153\n",
      "Epoch 8/600\n",
      "60/60 [==============================] - 0s 398us/step - loss: 0.0153\n",
      "Epoch 9/600\n",
      "60/60 [==============================] - 0s 956us/step - loss: 0.0152\n",
      "Epoch 10/600\n",
      "60/60 [==============================] - 0s 663us/step - loss: 0.0153\n",
      "Epoch 11/600\n",
      "60/60 [==============================] - 0s 266us/step - loss: 0.0152\n",
      "Epoch 12/600\n",
      "60/60 [==============================] - 0s 371us/step - loss: 0.0152\n",
      "Epoch 13/600\n",
      "60/60 [==============================] - 0s 1ms/step - loss: 0.0153\n",
      "Epoch 14/600\n",
      "60/60 [==============================] - 0s 177us/step - loss: 0.0153\n",
      "Epoch 15/600\n",
      "60/60 [==============================] - 0s 374us/step - loss: 0.0152\n",
      "Epoch 16/600\n",
      "60/60 [==============================] - 0s 171us/step - loss: 0.0154\n",
      "Epoch 17/600\n",
      "60/60 [==============================] - 0s 174us/step - loss: 0.0152\n",
      "Epoch 18/600\n",
      "60/60 [==============================] - 0s 429us/step - loss: 0.0152\n",
      "Epoch 19/600\n",
      "60/60 [==============================] - 0s 710us/step - loss: 0.0153\n",
      "Epoch 20/600\n",
      "60/60 [==============================] - 0s 247us/step - loss: 0.0152\n",
      "Epoch 21/600\n",
      "60/60 [==============================] - 0s 434us/step - loss: 0.0156\n",
      "Epoch 22/600\n",
      "60/60 [==============================] - 0s 369us/step - loss: 0.0152\n",
      "Epoch 23/600\n",
      "60/60 [==============================] - 0s 140us/step - loss: 0.0152\n",
      "Epoch 24/600\n",
      "60/60 [==============================] - 0s 214us/step - loss: 0.0152\n",
      "Epoch 25/600\n",
      "60/60 [==============================] - 0s 178us/step - loss: 0.0153\n",
      "Epoch 26/600\n",
      "60/60 [==============================] - 0s 195us/step - loss: 0.0154\n",
      "Epoch 27/600\n",
      "60/60 [==============================] - 0s 521us/step - loss: 0.0152\n",
      "Epoch 28/600\n",
      "60/60 [==============================] - 0s 518us/step - loss: 0.0152\n",
      "Epoch 29/600\n",
      "60/60 [==============================] - 0s 682us/step - loss: 0.0152\n",
      "Epoch 30/600\n",
      "60/60 [==============================] - 0s 679us/step - loss: 0.0153\n",
      "Epoch 31/600\n",
      "60/60 [==============================] - 0s 341us/step - loss: 0.0152\n",
      "Epoch 32/600\n",
      "60/60 [==============================] - 0s 209us/step - loss: 0.0153\n",
      "Epoch 33/600\n",
      "60/60 [==============================] - 0s 233us/step - loss: 0.0152\n",
      "Epoch 34/600\n",
      "60/60 [==============================] - 0s 332us/step - loss: 0.0152\n",
      "Epoch 35/600\n",
      "60/60 [==============================] - 0s 181us/step - loss: 0.0153\n",
      "Epoch 36/600\n",
      "60/60 [==============================] - 0s 288us/step - loss: 0.0154\n",
      "Epoch 37/600\n",
      "60/60 [==============================] - ETA: 0s - loss: 0.010 - 0s 229us/step - loss: 0.0153\n",
      "Epoch 38/600\n",
      "60/60 [==============================] - 0s 459us/step - loss: 0.0152\n",
      "Epoch 39/600\n",
      "60/60 [==============================] - 0s 596us/step - loss: 0.0151\n",
      "Epoch 40/600\n",
      "60/60 [==============================] - 0s 380us/step - loss: 0.0152\n",
      "Epoch 41/600\n",
      "60/60 [==============================] - 0s 303us/step - loss: 0.0153\n",
      "Epoch 42/600\n",
      "60/60 [==============================] - 0s 255us/step - loss: 0.0152\n",
      "Epoch 43/600\n",
      "60/60 [==============================] - 0s 225us/step - loss: 0.0153\n",
      "Epoch 44/600\n",
      "60/60 [==============================] - 0s 492us/step - loss: 0.0155\n",
      "Epoch 45/600\n",
      "60/60 [==============================] - 0s 592us/step - loss: 0.0152\n",
      "Epoch 46/600\n",
      "60/60 [==============================] - 0s 603us/step - loss: 0.0151\n",
      "Epoch 47/600\n",
      "60/60 [==============================] - 0s 738us/step - loss: 0.0152\n",
      "Epoch 48/600\n",
      "60/60 [==============================] - 0s 185us/step - loss: 0.0152\n",
      "Epoch 49/600\n",
      "60/60 [==============================] - 0s 354us/step - loss: 0.0152\n",
      "Epoch 50/600\n",
      "60/60 [==============================] - 0s 357us/step - loss: 0.0151\n",
      "Epoch 51/600\n",
      "60/60 [==============================] - 0s 193us/step - loss: 0.0152\n",
      "Epoch 52/600\n",
      "60/60 [==============================] - 0s 159us/step - loss: 0.0154\n",
      "Epoch 53/600\n",
      "60/60 [==============================] - 0s 197us/step - loss: 0.0151\n",
      "Epoch 54/600\n",
      "60/60 [==============================] - 0s 179us/step - loss: 0.0152\n",
      "Epoch 55/600\n",
      "60/60 [==============================] - 0s 178us/step - loss: 0.0152\n",
      "Epoch 56/600\n",
      "60/60 [==============================] - 0s 199us/step - loss: 0.0151\n",
      "Epoch 57/600\n",
      "60/60 [==============================] - 0s 645us/step - loss: 0.0152\n",
      "Epoch 58/600\n",
      "60/60 [==============================] - 0s 850us/step - loss: 0.0151\n",
      "Epoch 59/600\n",
      "60/60 [==============================] - 0s 819us/step - loss: 0.0152\n",
      "Restoring model weights from the end of the best epoch\n",
      "Epoch 00059: early stopping\n"
     ]
    }
   ],
   "source": [
    "sgd = tf.keras.optimizers.RMSprop(0.005)\n",
    "model.compile(loss='mean_absolute_error',optimizer=sgd)\n",
    "\n",
    "historyData = model.fit(xarray,yarray,epochs=600,callbacks=[es])"
   ]
  },
  {
   "cell_type": "code",
   "execution_count": 46,
   "metadata": {},
   "outputs": [
    {
     "name": "stdout",
     "output_type": "stream",
     "text": [
      "row [0] data:  T1=  315.3096446700507 , gam=  0.0 , qsol=  416.66666666666663 , alpha=  34.448739854239335 ,  predicted alpha =  34.95891809463501\n",
      "row [20] data:  T1=  300.43654822335026 , gam=  0.0 , qsol=  416.66666666666663 , alpha=  46.990530214816786 ,  predicted alpha =  47.032620906829834\n"
     ]
    }
   ],
   "source": [
    "test = []\n",
    "outpt=[]\n",
    "\n",
    "#first point (row [0])comparison of data and prediction\n",
    "# put in a loop to print comparion for all data points\n",
    "\n",
    "test = [[ xarray[0][0] , xarray[0][1] , xarray[0][2] ]]\n",
    "testarray = np.array(test)\n",
    "outpt = model.predict(testarray)\n",
    "print ('row [0] data:  T1= ', xarray[0][0]*Tmed, ', gam= ', xarray[0][1]*gamed, \\\n",
    "    ', qsol= ', xarray[0][2]*qsmed,', alpha= ', yarray[0][0]*almed,\\\n",
    "    ',  predicted alpha = ', outpt[0][0]*almed)\n",
    "\n",
    "#20th point (row [20])comparison of data and prediction\n",
    "test = [[ xarray[20][0] , xarray[20][1] , xarray[20][2] ]]\n",
    "testarray = np.array(test)\n",
    "outpt = model.predict(testarray)\n",
    "print ('row [20] data:  T1= ', xarray[20][0]*Tmed, ', gam= ', xarray[0][1]*gamed, \\\n",
    "    ', qsol= ', xarray[20][2]*qsmed,', alpha= ', yarray[20][0]*almed,\\\n",
    "    ',  predicted alpha = ', outpt[0][0]*almed)\n",
    "\n",
    "\n"
   ]
  },
  {
   "cell_type": "code",
   "execution_count": 49,
   "metadata": {},
   "outputs": [],
   "source": [
    "gamma = 0.25\n",
    "T1 = np.linspace(268,318,num=100)\n",
    "Q = np.linspace(500,2500,num=100)\n",
    "X,Y = np.meshgrid(T1,Q)"
   ]
  },
  {
   "cell_type": "code",
   "execution_count": 62,
   "metadata": {},
   "outputs": [],
   "source": [
    "Z = np.zeros((100,100))\n",
    "for i in range(0,100):\n",
    "    for j in range(0,100):\n",
    "        Z[i,j] = model.predict(np.array([[X[i,j]/xmedian[0],gamma/xmedian[1],Y[i,j]/xmedian[2]]]))[0][0]"
   ]
  },
  {
   "cell_type": "code",
   "execution_count": 63,
   "metadata": {},
   "outputs": [],
   "source": [
    "Z = Z*ymedian[0]"
   ]
  },
  {
   "cell_type": "code",
   "execution_count": 67,
   "metadata": {},
   "outputs": [
    {
     "data": {
      "text/plain": [
       "Text(0.5, 0, 'Molar air to fuel ratio')"
      ]
     },
     "execution_count": 67,
     "metadata": {},
     "output_type": "execute_result"
    },
    {
     "data": {
      "image/png": "[encoded data removed]",
      "text/plain": [
       "<Figure size 432x288 with 1 Axes>"
      ]
     },
     "metadata": {
      "needs_background": "light"
     },
     "output_type": "display_data"
    }
   ],
   "source": [
    "import matplotlib.pyplot as plt\n",
    "fig, ax = plt.subplots(subplot_kw={\"projection\": \"3d\"})\n",
    "ax.plot_surface(X,Y,Z)\n",
    "ax.set_xlabel(\"Inlet Temperature (C)\")\n",
    "ax.set_ylabel(\"Solar heat input (kW)\")\n",
    "ax.set_zlabel(\"Molar air to fuel ratio\")"
   ]
  },
  {
   "cell_type": "markdown",
   "metadata": {},
   "source": [
    "# Model validation with test data"
   ]
  },
  {
   "cell_type": "code",
   "execution_count": 70,
   "metadata": {},
   "outputs": [],
   "source": [
    "testxdata = np.array([[ 318.0 , 0.0 , 500.0 ],\n",
    "[ 318.0 , 0.0 , 1500.0 ],\n",
    "[ 318.0 , 0.0 , 2500.0 ],\n",
    "[ 318.0 , 0.25 , 1500.0 ],\n",
    "[ 318.0 , 0.5 , 500.0 ],\n",
    "[ 318.0 , 0.5 , 1500.0 ],\n",
    "[ 318.0 , 0.5 , 2500.0 ],\n",
    "[ 303.0 , 0.0 , 1000.0 ],\n",
    "[ 303.0 , 0.0 , 2000.0 ],\n",
    "[ 303.0 , 0.25 , 1000.0 ],\n",
    "[ 303.0 , 0.25 , 2000.0 ],\n",
    "[ 303.0 , 0.5 , 1000.0 ],\n",
    "[ 303.0 , 0.5 , 2000.0 ],\n",
    "[ 288.0 , 0.0 , 500.0 ],\n",
    "[ 288.0 , 0.0 , 2500.0 ],\n",
    "[ 288.0 , 0.25 , 2500.0 ],\n",
    "[ 288.0 , 0.5 , 1500.0 ],\n",
    "[ 268.0 , 0.0 , 1500.0 ],\n",
    "[ 268.0 , 0.25 , 2000.0 ],\n",
    "[ 268.0 , 0.5 , 2500.0 ]])\n",
    "\n",
    "testydata = np.array([[ 35.13 , 0.3808 ],\n",
    "[ 47.46 , 0.3930 ],\n",
    "[ 73.12 , 0.4061 ],\n",
    "[ 66.34 , 0.4098 ],\n",
    "[ 63.09, 0.4154 ],\n",
    "[ 85.23 , 0.4197 ],\n",
    "[131.32 , 0.4242 ],\n",
    "[ 38.99 , 0.4012 ],\n",
    "[ 53.80 , 0.4136 ],\n",
    "[ 54.51 , 0.4215 ],\n",
    "[ 75.22 , 0.4290 ],\n",
    "[ 70.04, 0.4337 ],\n",
    "[ 96.65, 0.4382 ],\n",
    "[ 33.45 , 0.4091 ],\n",
    "[ 60.80 , 0.4334 ],\n",
    "[ 85.044, 0.4477],\n",
    "[ 77.56 , 0.4516 ],\n",
    "[ 40.68 , 0.4383 ],\n",
    "[ 65.24 , 0.4628 ],\n",
    "[ 98.23 , 0.4760 ]])"
   ]
  },
  {
   "cell_type": "code",
   "execution_count": 76,
   "metadata": {},
   "outputs": [],
   "source": [
    "normalizedtestxdata = np.zeros(testxdata.shape)\n",
    "for i in range(0,3):\n",
    "    normalizedtestxdata[:,i] = testxdata[:,i]/xmedian[i]\n",
    "    \n",
    "predictedydata = np.zeros(testydata.shape)\n",
    "numrows = testydata.shape[0]\n",
    "\n",
    "for i in range(0,numrows):\n",
    "    predictedydata[i,:] = model.predict(np.array([normalizedtestxdata[i,:]]))[0]"
   ]
  },
  {
   "cell_type": "code",
   "execution_count": 77,
   "metadata": {},
   "outputs": [],
   "source": [
    "for i in range(0,2):\n",
    "    predictedydata[:,i] = predictedydata[:,i]*ymedian[i]"
   ]
  },
  {
   "cell_type": "code",
   "execution_count": 78,
   "metadata": {},
   "outputs": [
    {
     "name": "stdout",
     "output_type": "stream",
     "text": [
      "[[ 35.65189125   0.39790615]\n",
      " [ 47.39059796   0.39290441]\n",
      " [ 69.10240936   0.40694206]\n",
      " [ 67.07569917   0.41806813]\n",
      " [ 63.11687177   0.42444565]\n",
      " [ 85.65128765   0.41895581]\n",
      " [118.88628722   0.42419011]\n",
      " [ 39.11370427   0.40236982]\n",
      " [ 55.10843164   0.41084306]\n",
      " [ 54.47423993   0.4291819 ]\n",
      " [ 75.75814352   0.42948399]\n",
      " [ 69.99410582   0.4381675 ]\n",
      " [ 96.56563924   0.4374955 ]\n",
      " [ 32.83958075   0.40942644]\n",
      " [ 60.76365238   0.43311113]\n",
      " [ 85.02155278   0.44159333]\n",
      " [ 76.87132529   0.45188941]\n",
      " [ 41.16202759   0.41937568]\n",
      " [ 65.6843259    0.46269913]\n",
      " [103.13971327   0.47761899]]\n"
     ]
    }
   ],
   "source": [
    "print(predictedydata)"
   ]
  },
  {
   "cell_type": "code",
   "execution_count": 80,
   "metadata": {},
   "outputs": [
    {
     "data": {
      "text/plain": [
       "Text(0.5, 1.0, 'Comparison of predicted vs actual air-fuel ratio')"
      ]
     },
     "execution_count": 80,
     "metadata": {},
     "output_type": "execute_result"
    },
    {
     "data": {
      "image/png": "[encoded data removed]",
      "text/plain": [
       "<Figure size 432x288 with 1 Axes>"
      ]
     },
     "metadata": {
      "needs_background": "light"
     },
     "output_type": "display_data"
    }
   ],
   "source": [
    "fig,ax = plt.subplots()\n",
    "ax.scatter(testydata[:,0],predictedydata[:,0])\n",
    "ax.set_xscale('log')\n",
    "ax.set_yscale('log')\n",
    "ax.grid()\n",
    "ax.set_xlabel(\"Actual Air Fuel Ratio\")\n",
    "ax.set_ylabel(\"Predicted Air Fuel Ratio\")\n",
    "ax.set_title(\"Comparison of predicted vs actual air-fuel ratio\")"
   ]
  },
  {
   "cell_type": "code",
   "execution_count": 88,
   "metadata": {},
   "outputs": [],
   "source": [
    "rmserror = np.sqrt(np.sum((testydata - predictedydata)**2,axis=0)/numrows)"
   ]
  },
  {
   "cell_type": "code",
   "execution_count": 89,
   "metadata": {},
   "outputs": [
    {
     "data": {
      "text/plain": [
       "array([3.15551945, 0.00682303])"
      ]
     },
     "execution_count": 89,
     "metadata": {},
     "output_type": "execute_result"
    }
   ],
   "source": [
    "rmserror"
   ]
  },
  {
   "cell_type": "markdown",
   "metadata": {},
   "source": [
    "# Prediction of $\\alpha$ over the course of a day"
   ]
  },
  {
   "cell_type": "markdown",
   "metadata": {},
   "source": [
    "## $\\gamma = 0$ "
   ]
  },
  {
   "cell_type": "code",
   "execution_count": 91,
   "metadata": {},
   "outputs": [],
   "source": [
    "hourlydata = np.array([[ 287.0 , 0.0, 500.0 ],\n",
    "[ 295.0 ,0.0,  750.0 ],\n",
    "[ 301.0 ,0.0,  1000.0 ],\n",
    "[ 305.0 ,0.0,  2450.0 ],\n",
    "[ 307.0 ,0.0,  2600.0 ],\n",
    "[ 308.0 ,0.0,  2400.0 ],\n",
    "[ 308.0 ,0.0,  2100.0 ],\n",
    "[ 305.0 ,0.0,  1800.0 ],\n",
    "[ 295.0 ,0.0,  1300.0 ],\n",
    "[ 292.0 ,0.0, 800.0 ],\n",
    "[ 295.0 ,0.0,  250.0 ]])\n",
    "\n",
    "normalizedhourlydata = np.zeros(hourlydata.shape)\n",
    "for i in range(0,3):\n",
    "    normalizedhourlydata[:,i] = hourlydata[:,i]/xmedian[i]"
   ]
  },
  {
   "cell_type": "code",
   "execution_count": 94,
   "metadata": {},
   "outputs": [],
   "source": [
    "numrows = hourlydata.shape[0]\n",
    "hourlyoutput = np.zeros((numrows,2))\n",
    "\n",
    "for i in range(0,numrows):\n",
    "    hourlyoutput[i,:] = model.predict(np.array([normalizedhourlydata[i,:]])) "
   ]
  },
  {
   "cell_type": "code",
   "execution_count": 95,
   "metadata": {},
   "outputs": [],
   "source": [
    "for i in range(0,2):\n",
    "    hourlyoutput[:,i] = hourlyoutput[:,i]*ymedian[i]"
   ]
  },
  {
   "cell_type": "code",
   "execution_count": 96,
   "metadata": {},
   "outputs": [
    {
     "data": {
      "image/png": "[encoded data removed]",
      "text/plain": [
       "<Figure size 432x288 with 1 Axes>"
      ]
     },
     "metadata": {
      "needs_background": "light"
     },
     "output_type": "display_data"
    }
   ],
   "source": [
    "time = np.array([9,10,11,12,13,14,15,16,17,18,19])\n",
    "\n",
    "fig,ax = plt.subplots()\n",
    "ax.plot(time,hourlyoutput[:,0])\n",
    "ax.grid()\n",
    "ax.set_xlabel(\"Time (hour of day)\")\n",
    "ax.set_ylabel(\"Predicted air-fuel ratio\")\n",
    "ax.set_title(\"Predicted value of air-fuel ratio for gamma = 0\")\n",
    "fig.tight_layout()"
   ]
  },
  {
   "cell_type": "markdown",
   "metadata": {},
   "source": [
    "## $\\gamma = 0.5$"
   ]
  },
  {
   "cell_type": "code",
   "execution_count": 97,
   "metadata": {},
   "outputs": [],
   "source": [
    "hourlydata = np.array([[ 287.0 , 0.5, 500.0 ],\n",
    "[ 295.0 ,0.5,  750.0 ],\n",
    "[ 301.0 ,0.5,  1000.0 ],\n",
    "[ 305.0 ,0.5,  2450.0 ],\n",
    "[ 307.0 ,0.5,  2600.0 ],\n",
    "[ 308.0 ,0.5,  2400.0 ],\n",
    "[ 308.0 ,0.5,  2100.0 ],\n",
    "[ 305.0 ,0.5,  1800.0 ],\n",
    "[ 295.0 ,0.5,  1300.0 ],\n",
    "[ 292.0 ,0.5, 800.0 ],\n",
    "[ 295.0 ,0.5,  250.0 ]])\n",
    "\n",
    "normalizedhourlydata = np.zeros(hourlydata.shape)\n",
    "for i in range(0,3):\n",
    "    normalizedhourlydata[:,i] = hourlydata[:,i]/xmedian[i]"
   ]
  },
  {
   "cell_type": "code",
   "execution_count": 98,
   "metadata": {},
   "outputs": [],
   "source": [
    "numrows = hourlydata.shape[0]\n",
    "hourlyoutput = np.zeros((numrows,2))\n",
    "\n",
    "for i in range(0,numrows):\n",
    "    hourlyoutput[i,:] = model.predict(np.array([normalizedhourlydata[i,:]])) "
   ]
  },
  {
   "cell_type": "code",
   "execution_count": 99,
   "metadata": {},
   "outputs": [],
   "source": [
    "for i in range(0,2):\n",
    "    hourlyoutput[:,i] = hourlyoutput[:,i]*ymedian[i]"
   ]
  },
  {
   "cell_type": "code",
   "execution_count": 100,
   "metadata": {},
   "outputs": [
    {
     "data": {
      "image/png": "[encoded data removed]",
      "text/plain": [
       "<Figure size 432x288 with 1 Axes>"
      ]
     },
     "metadata": {
      "needs_background": "light"
     },
     "output_type": "display_data"
    }
   ],
   "source": [
    "time = np.array([9,10,11,12,13,14,15,16,17,18,19])\n",
    "\n",
    "fig,ax = plt.subplots()\n",
    "ax.plot(time,hourlyoutput[:,0])\n",
    "ax.grid()\n",
    "ax.set_xlabel(\"Time (hour of day)\")\n",
    "ax.set_ylabel(\"Predicted air-fuel ratio\")\n",
    "ax.set_title(\"Predicted value of air-fuel ratio for gamma = 0.5\")\n",
    "fig.tight_layout()"
   ]
  },
  {
   "cell_type": "code",
   "execution_count": null,
   "metadata": {},
   "outputs": [],
   "source": []
  }
 ],
 "metadata": {
  "kernelspec": {
   "display_name": "Python 3",
   "language": "python",
   "name": "python3"
  },
  "language_info": {
   "codemirror_mode": {
    "name": "ipython",
    "version": 3
   },
   "file_extension": ".py",
   "mimetype": "text/x-python",
   "name": "python",
   "nbconvert_exporter": "python",
   "pygments_lexer": "ipython3",
   "version": "3.6.12"
  }
 },
 "nbformat": 4,
 "nbformat_minor": 2
}
